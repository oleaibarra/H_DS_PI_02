{
 "cells": [
  {
   "cell_type": "code",
   "execution_count": 1,
   "metadata": {},
   "outputs": [],
   "source": [
    "import pandas as pd\n",
    "import random"
   ]
  },
  {
   "cell_type": "code",
   "execution_count": 2,
   "metadata": {},
   "outputs": [],
   "source": [
    "# carga a dataframe del archivo parquet para identifica userId\n",
    "stream = pd.read_parquet('reviews.parquet')"
   ]
  },
  {
   "cell_type": "code",
   "execution_count": 3,
   "metadata": {},
   "outputs": [],
   "source": [
    "# cargar plata_stars.parquet para las recomendacions\n",
    "plata = pd.read_parquet('plata_stars.parquet')"
   ]
  },
  {
   "cell_type": "code",
   "execution_count": 4,
   "metadata": {},
   "outputs": [],
   "source": [
    "# generar indices para la función des_recommendations\n",
    "indices = pd.Series(plata.index, index=plata['show_id']).drop_duplicates()"
   ]
  },
  {
   "cell_type": "code",
   "execution_count": 5,
   "metadata": {},
   "outputs": [],
   "source": [
    "# cargar cos_sim array, generado a partir de:\n",
    "\"\"\"\n",
    "tfidf = TfidfVectorizer(stop_words='english')\n",
    "tfidf_description = tfidf.fit_transform(plata['description'])\n",
    "cos_sim = linear_kernel(tfidf_description, tfidf_description)\n",
    "\"\"\"\n",
    "import numpy as np\n",
    "cos_sim_file = 'cos_sim.npy'\n",
    "cos_sim = np.load(cos_sim_file)"
   ]
  },
  {
   "cell_type": "code",
   "execution_count": 6,
   "metadata": {},
   "outputs": [],
   "source": [
    "# Definimos funcion para obtener una lista de 3 películas con las mejores puntuaciones dadas por un usuario\n",
    "\n",
    "def get_tres(userId):\n",
    "    \n",
    "    # Filtramos el dataframe para incluir sólo las películas calificadas por el usuario\n",
    "    df = stream[stream['userId'] == userId]\n",
    "    \n",
    "    # Definimos los posibles valores de rating\n",
    "    rating_values=[10, 9, 8, 7, 6, 5, 4, 3, 2, 1, 0]\n",
    "\n",
    "    # Creamos diccionario donde las llaves son los posibles rating y los valores son una lista de movieIds que tienen ese rating\n",
    "    rating_dict = {}\n",
    "    for rating in rating_values:\n",
    "        rating_dict[str(rating)] = df[df['rating'] == rating]['movieId'].values.tolist()\n",
    "        if len(rating_dict[str(rating)]) >= 3:\n",
    "            break\n",
    "\n",
    "    # Create a new dictionary where the keys are rating values and the values are lists of movieIds that are the user's top rated movies for that rating value\n",
    "    user_top_movies = {}\n",
    "    z = 3\n",
    "    for rating in rating_values:\n",
    "        user_top_movies[str(rating)] = rating_dict[str(rating)]\n",
    "        z = z - len(user_top_movies[str(rating)])\n",
    "        if z <= 0:\n",
    "            break\n",
    "\n",
    "    # Create a list of 3 recommended movies by selecting the user's top rated movies from the highest rating value to the lowest rating value\n",
    "    final_list = []\n",
    "    for rating in rating_values:\n",
    "        movies = user_top_movies[str(rating)]\n",
    "        if len(movies) > 0:\n",
    "            if len(movies) <= 3 - len(final_list):\n",
    "                final_list += movies\n",
    "            else:\n",
    "                final_list += random.sample(movies, 3 - len(final_list))\n",
    "        if len(final_list) == 3:\n",
    "            break\n",
    "\n",
    "    # Return the final list of recommended movies\n",
    "    return final_list"
   ]
  },
  {
   "cell_type": "code",
   "execution_count": 9,
   "metadata": {},
   "outputs": [],
   "source": [
    "# Función para obtener las recomendaciones\n",
    "def des_recommendations(showId, cos_sim):\n",
    "    idx = indices[showId]\n",
    "    sim_scores = list(enumerate(cos_sim[idx]))\n",
    "    sim_scores = sorted(sim_scores, key=lambda x: x[1], reverse=True)\n",
    "    sim_scores = sim_scores[1:16]\n",
    "    movie_indices = [i[0] for i in sim_scores]\n",
    "    return plata.loc[movie_indices, 'show_id'].tolist()"
   ]
  },
  {
   "cell_type": "code",
   "execution_count": 26,
   "metadata": {},
   "outputs": [],
   "source": [
    "def get_final_recommendations(the_3, cos_sim):\n",
    "    final_list = []\n",
    "    final_list += get_list1(the_3, cos_sim)\n",
    "    final_list += get_list2(the_3, cos_sim)\n",
    "    final_list += get_list3(the_3, cos_sim)\n",
    "    final_list = sorted(final_list, key=lambda x: x[1], reverse=True)[:10]\n",
    "    return final_list\n",
    "\n",
    "def get_list1(the_3, cos_sim):\n",
    "    showId = the_3[0]\n",
    "    return des_recommendations(showId, cos_sim)\n",
    "\n",
    "def get_list2(the_3, cos_sim):\n",
    "    if len(the_3) > 1:\n",
    "        showId = the_3[1]\n",
    "        return des_recommendations(showId, cos_sim)\n",
    "    else:\n",
    "        return []\n",
    "\n",
    "def get_list3(the_3, cos_sim):\n",
    "    if len(the_3) > 2:\n",
    "        showId = the_3[2]\n",
    "        return des_recommendations(showId, cos_sim)\n",
    "    else:\n",
    "        return []"
   ]
  },
  {
   "cell_type": "code",
   "execution_count": 28,
   "metadata": {},
   "outputs": [],
   "source": [
    "def get_user_recommendations(userId):\n",
    "    if userId not in stream['userId'].values:\n",
    "        return 'Usuario no existente'\n",
    "    else:\n",
    "        the_3 = get_tres(userId)\n",
    "        recommended_movies = get_final_recommendations(the_3, cos_sim)\n",
    "        return recommended_movies"
   ]
  },
  {
   "cell_type": "code",
   "execution_count": 31,
   "metadata": {},
   "outputs": [
    {
     "name": "stdout",
     "output_type": "stream",
     "text": [
      "robert\n",
      "back to the 90s\n",
      "celebrity ghost stories\n",
      "the forest of love\n",
      "true horror\n",
      "speak up: empower your ideas\n",
      "futmalls.com\n",
      "acapulco shore\n",
      "the prince family\n",
      "paranormal solutions inc.\n"
     ]
    }
   ],
   "source": [
    "userId = 1055\n",
    "numero_de_recomendaciones = 10\n",
    "\n",
    "\n",
    "show_id_list = get_user_recommendations(userId)\n",
    "\n",
    "for show_id in show_id_list:\n",
    "    title = plata.loc[plata['show_id'] == show_id, 'title'].iloc[0]\n",
    "    print(title)"
   ]
  }
 ],
 "metadata": {
  "kernelspec": {
   "display_name": "Python 3.9.16 ('base')",
   "language": "python",
   "name": "python3"
  },
  "language_info": {
   "codemirror_mode": {
    "name": "ipython",
    "version": 3
   },
   "file_extension": ".py",
   "mimetype": "text/x-python",
   "name": "python",
   "nbconvert_exporter": "python",
   "pygments_lexer": "ipython3",
   "version": "3.9.16"
  },
  "orig_nbformat": 4,
  "vscode": {
   "interpreter": {
    "hash": "e06ff7da33dc9620448857a90ad8b5f428f0d573d205a934d2841c8aee45ea32"
   }
  }
 },
 "nbformat": 4,
 "nbformat_minor": 2
}
